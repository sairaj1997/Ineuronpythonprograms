{
 "cells": [
  {
   "cell_type": "code",
   "execution_count": 21,
   "metadata": {},
   "outputs": [
    {
     "name": "stdout",
     "output_type": "stream",
     "text": [
      "Enter a number3\n",
      "6\n"
     ]
    }
   ],
   "source": [
    "#1.write a python program to find factorial of a number\n",
    "n=int(input(\"Enter a number\"))\n",
    "fact=1\n",
    "if n==0:\n",
    "    print(1) \n",
    "elif n<0:\n",
    "    print(\"cant be less then zero\")\n",
    "else:\n",
    "    for i in range(1,n+1):\n",
    "        fact=fact*i\n",
    "    \n",
    "print(fact)\n",
    "        \n",
    "\n",
    "\n"
   ]
  },
  {
   "cell_type": "code",
   "execution_count": 29,
   "metadata": {},
   "outputs": [
    {
     "name": "stdout",
     "output_type": "stream",
     "text": [
      "Enter a number to generate multiplication table4\n",
      "4 x 1 = 4\n",
      "4 x 2 = 8\n",
      "4 x 3 = 12\n",
      "4 x 4 = 16\n",
      "4 x 5 = 20\n",
      "4 x 6 = 24\n",
      "4 x 7 = 28\n",
      "4 x 8 = 32\n",
      "4 x 9 = 36\n",
      "4 x 10 = 40\n"
     ]
    }
   ],
   "source": [
    "#2.python program to display multiplication table\n",
    "\n",
    "n=int(input(\"Enter a number to generate multiplication table\"))\n",
    "if n==0 or n<0:\n",
    "    print(\"not possible\")\n",
    "else:\n",
    "    for i in range(1,10+1):\n",
    "        prod=n*i\n",
    "        print(n,'x',i,'=',prod)\n",
    "    \n"
   ]
  },
  {
   "cell_type": "code",
   "execution_count": 39,
   "metadata": {},
   "outputs": [
    {
     "name": "stdout",
     "output_type": "stream",
     "text": [
      "fibonacci series6\n",
      "0\n",
      "1\n",
      "1\n",
      "2\n",
      "3\n",
      "5\n"
     ]
    }
   ],
   "source": [
    "#3.program to print fibonnaci series\n",
    "n=int(input(\"fibonacci series\"))\n",
    "a=0\n",
    "b=1\n",
    "print(a)\n",
    "print(b)\n",
    "\n",
    "for i in range(3,n+1):\n",
    "    c=a+b\n",
    "    a=b\n",
    "    b=c\n",
    "    print(c)\n",
    "\n",
    "   \n",
    "    \n",
    "    \n",
    "    "
   ]
  },
  {
   "cell_type": "code",
   "execution_count": 4,
   "metadata": {},
   "outputs": [
    {
     "name": "stdout",
     "output_type": "stream",
     "text": [
      "Enter a number4\n",
      "10\n"
     ]
    }
   ],
   "source": [
    "#6.program to check sum of n natural numbers\n",
    "\n",
    "n=int(input(\"Enter a number\"))\n",
    "summ=0\n",
    "if n<0:\n",
    "    print(\"please enter only positive numbers\")\n",
    "else:\n",
    "    \n",
    "    while n>0:\n",
    "        summ=summ+n\n",
    "        n=n-1\n",
    "    print(summ)\n"
   ]
  },
  {
   "cell_type": "code",
   "execution_count": 5,
   "metadata": {},
   "outputs": [
    {
     "name": "stdout",
     "output_type": "stream",
     "text": [
      "Enter a number to check if it is armstrong or not153\n",
      "armstrong number\n"
     ]
    }
   ],
   "source": [
    "#4.program to check armstrong number\n",
    "n=int(input(\"Enter a number to check if it is armstrong or not\"))\n",
    "summ=0\n",
    "#to get order or to determine number of digits in a given number\n",
    "order=len(str(n))\n",
    "#copy variable to maintain original value as at the end of while loop n value becomes zero\n",
    "copy_n=n\n",
    "\n",
    "while(n>0):\n",
    "    digit=n%10\n",
    "    summ=summ+digit**order\n",
    "    n=n//10\n",
    "\n",
    "if(summ==copy_n):\n",
    "    print(\"armstrong number\")\n",
    "else:\n",
    "    print(\"Not armstrong number\")\n"
   ]
  },
  {
   "cell_type": "code",
   "execution_count": 21,
   "metadata": {},
   "outputs": [
    {
     "name": "stdout",
     "output_type": "stream",
     "text": [
      "Enter a lower level interval for armstrong number100\n",
      "Enter a upper level interval for armstrong number2000\n",
      "153\n",
      "370\n",
      "371\n",
      "407\n",
      "1634\n"
     ]
    }
   ],
   "source": [
    "#5.program to check armstrong number in a interval\n",
    "\n",
    "l=int(input(\"Enter a lower level interval for armstrong number\"))\n",
    "u=int(input(\"Enter a upper level interval for armstrong number\"))\n",
    "\n",
    "for n in range(l,u+1):\n",
    "    order=len(str(n))\n",
    "    sum=0\n",
    "    temp=n\n",
    "    while(temp>0):\n",
    "        digit=temp%10\n",
    "        sum=sum+digit**order\n",
    "        temp=temp//10\n",
    "       \n",
    "    if(n==sum):\n",
    "            print(n)\n",
    "        \n",
    "        \n",
    "    "
   ]
  },
  {
   "cell_type": "code",
   "execution_count": null,
   "metadata": {},
   "outputs": [],
   "source": []
  },
  {
   "cell_type": "code",
   "execution_count": null,
   "metadata": {},
   "outputs": [],
   "source": []
  }
 ],
 "metadata": {
  "kernelspec": {
   "display_name": "Python 3",
   "language": "python",
   "name": "python3"
  },
  "language_info": {
   "codemirror_mode": {
    "name": "ipython",
    "version": 3
   },
   "file_extension": ".py",
   "mimetype": "text/x-python",
   "name": "python",
   "nbconvert_exporter": "python",
   "pygments_lexer": "ipython3",
   "version": "3.8.5"
  }
 },
 "nbformat": 4,
 "nbformat_minor": 4
}
