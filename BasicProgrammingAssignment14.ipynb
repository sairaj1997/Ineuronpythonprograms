{
 "cells": [
  {
   "cell_type": "markdown",
   "id": "e905b345",
   "metadata": {},
   "source": [
    "1.Write a program that calculates and prints the value according to the given formula:\n",
    "\n",
    "Q = Square root of [(2 * C * D)/H]\n",
    "\n",
    "Following are the fixed values of C and H:\n",
    "\n",
    "C is 50. H is 30.\n",
    "\n",
    "D is the variable whose values should be input to your program in a comma-separated sequence.\n",
    "\n",
    "Example\n",
    "\n",
    "Let us assume the following comma separated input sequence is given to the program:\n",
    "\n",
    "100,150,180\n",
    "\n",
    "The output of the program should be:\n",
    "\n",
    "18,22,24\n"
   ]
  },
  {
   "cell_type": "code",
   "execution_count": 15,
   "id": "b7b3aa42",
   "metadata": {},
   "outputs": [
    {
     "name": "stdout",
     "output_type": "stream",
     "text": [
      "provide D:100,150,180\n",
      "[18, 22, 24]\n"
     ]
    }
   ],
   "source": [
    "#1.Solution\n",
    "import math\n",
    "\n",
    "D=input(\"provide D:\")\n",
    "D=D.split(',')\n",
    "\n",
    "result=[]\n",
    "for item in D:\n",
    "    Q=round(math.sqrt((2*50*int(item))/30))\n",
    "    result.append(Q)\n",
    "\n",
    "print(result)\n",
    "    \n"
   ]
  },
  {
   "cell_type": "markdown",
   "id": "a2e5158f",
   "metadata": {},
   "source": [
    "Question 2:\n",
    "Write a program which takes 2 digits, X,Y as input and generates a 2-dimensional array. The element value in the i-th row and j-th column of the array should be i*j.\n",
    "\n",
    "Note: i=0,1.., X-1; j=0,1,¡¬Y-1.\n",
    "\n",
    "Example\n",
    "\n",
    "Suppose the following inputs are given to the program:\n",
    "\n",
    "3,5\n",
    "\n",
    "Then, the output of the program should be:\n",
    "\n",
    "[[0, 0, 0, 0, 0], [0, 1, 2, 3, 4], [0, 2, 4, 6, 8]] \n"
   ]
  },
  {
   "cell_type": "code",
   "execution_count": 3,
   "id": "2cab8131",
   "metadata": {},
   "outputs": [
    {
     "name": "stdout",
     "output_type": "stream",
     "text": [
      "enter a number for rows4\n",
      "Enter a number for cols5\n",
      "[[0, 0, 0, 0, 0], [0, 1, 2, 3, 4], [0, 2, 4, 6, 8], [0, 3, 6, 9, 12]]\n"
     ]
    }
   ],
   "source": [
    "#2.Solution\n",
    "row_n=int(input(\"enter a number for rows\"))\n",
    "col_n=int(input(\"Enter a number for cols\"))\n",
    "array_list=[[0 for col in range(col_n)]for row in range(row_n)]\n",
    "\n",
    "for row in range(row_n):\n",
    "    for col in range(col_n):\n",
    "        array_list[row][col]=row*col\n",
    "        \n",
    "print(array_list)\n",
    "\n",
    "\n"
   ]
  },
  {
   "cell_type": "markdown",
   "id": "d6e14601",
   "metadata": {},
   "source": [
    "3.Write a program that accepts a comma separated sequence of words as input and prints the words in a comma-separated sequence after sorting them alphabetically.\n",
    "\n",
    "Suppose the following input is supplied to the program:\n",
    "\n",
    "without,hello,bag,world\n",
    "\n",
    "Then, the output should be:\n",
    "\n",
    "bag,hello,without,world\n"
   ]
  },
  {
   "cell_type": "code",
   "execution_count": 4,
   "id": "f4b7312b",
   "metadata": {},
   "outputs": [
    {
     "name": "stdout",
     "output_type": "stream",
     "text": [
      "Enter words to arrange in sorted orderwithout,hello,bag,world\n",
      "bag,hello,without,world\n"
     ]
    }
   ],
   "source": [
    "#3.Solution\n",
    "word=input(\"Enter words to arrange in sorted order\")\n",
    "word=word.split(',')\n",
    "word.sort()\n",
    "print(\",\".join(word))"
   ]
  },
  {
   "cell_type": "markdown",
   "id": "3bf1ad5c",
   "metadata": {},
   "source": [
    "Question 4:\n",
    "Write a program that accepts a sequence of whitespace separated words as input and prints the words after removing all duplicate words and sorting them alphanumerically.\n",
    "\n",
    "Suppose the following input is supplied to the program:\n",
    "\n",
    "hello world and practice makes perfect and hello world again\n",
    "\n",
    "Then, the output should be:\n",
    "\n",
    "again and hello makes perfect practice world\n"
   ]
  },
  {
   "cell_type": "code",
   "execution_count": 2,
   "id": "8482b953",
   "metadata": {},
   "outputs": [
    {
     "name": "stdout",
     "output_type": "stream",
     "text": [
      "enter sentencehello world and practice makes perfect and hello world again\n",
      "again and hello makes perfect practice world\n"
     ]
    }
   ],
   "source": [
    "#4.solution\n",
    "res=input(\"enter sentence\")\n",
    "duplicates=[r for r in res.split(\" \")]\n",
    "print(\" \".join(sorted(list(set(duplicates)))))\n",
    "    "
   ]
  },
  {
   "cell_type": "markdown",
   "id": "2f5a5ae7",
   "metadata": {},
   "source": [
    "Question 5:\n",
    "Write a program that accepts a sentence and calculate the number of letters and digits.\n",
    "\n",
    "Suppose the following input is supplied to the program:\n",
    "\n",
    "hello world! 123\n",
    "\n",
    "Then, the output should be:\n",
    "\n",
    "LETTERS 10\n",
    "\n",
    "DIGITS 3\n"
   ]
  },
  {
   "cell_type": "code",
   "execution_count": 4,
   "id": "60420328",
   "metadata": {},
   "outputs": [
    {
     "name": "stdout",
     "output_type": "stream",
     "text": [
      "Enter the sentence along with numbershello world! 123\n",
      "letters 10\n",
      "digit 3\n"
     ]
    }
   ],
   "source": [
    "#5.solution\n",
    "sentence=input(\"Enter the sentence along with numbers\")\n",
    "res={\"digit\":0,\"alphabet\":0}\n",
    "for s in sentence:\n",
    "    if s.isdigit():\n",
    "        res[\"digit\"]=res[\"digit\"]+1\n",
    "    elif s.isalpha():\n",
    "        res[\"alphabet\"]=res[\"alphabet\"]+1\n",
    "    else:\n",
    "        pass\n",
    "print(\"letters\",res[\"alphabet\"])\n",
    "print(\"digit\",res[\"digit\"])\n",
    "        \n"
   ]
  },
  {
   "cell_type": "markdown",
   "id": "f2d3acb8",
   "metadata": {},
   "source": [
    "Question 6:\n",
    "A website requires the users to input username and password to register. Write a program to check the validity of password input by users.\n",
    "\n",
    "Following are the criteria for checking the password:\n",
    "\n",
    "1. At least 1 letter between [a-z]\n",
    "\n",
    "2. At least 1 number between [0-9]\n",
    "\n",
    "1. At least 1 letter between [A-Z]\n",
    "\n",
    "3. At least 1 character from [$#@]\n",
    "\n",
    "4. Minimum length of transaction password: 6\n",
    "\n",
    "5. Maximum length of transaction password: 12\n",
    "\n",
    "Your program should accept a sequence of comma separated passwords and will check them according to the above criteria. Passwords that match the criteria are to be printed, each separated by a comma.\n",
    "\n",
    "Example\n",
    "\n",
    "If the following passwords are given as input to the program:\n",
    "\n",
    "ABd1234@1,a F1#,2w3E*,2We3345\n",
    "\n",
    "Then, the output of the program should be:\n",
    "\n",
    "ABd1234@1\n"
   ]
  },
  {
   "cell_type": "code",
   "execution_count": 8,
   "id": "ec4cb380",
   "metadata": {},
   "outputs": [
    {
     "name": "stdout",
     "output_type": "stream",
     "text": [
      "enter a passwordABd1234@1,a F1#,2w3E*,2We3345\n",
      "ABd1234@1\n"
     ]
    }
   ],
   "source": [
    "import re\n",
    "\n",
    "password=input(\"enter a password\")\n",
    "password=password.split(\",\")\n",
    "res=[]\n",
    "for p in password:\n",
    "    if not re.search(\"([a-z]+)\",p):\n",
    "        continue\n",
    "    elif not re.search(\"([A-Z]+)\",p):\n",
    "        continue\n",
    "    elif not re.search(\"([0-9]+)\",p):\n",
    "        continue\n",
    "    elif not re.search(\"([!@$%^&])\",p):\n",
    "        continue\n",
    "    elif len(p)<6 or len(p)>12:\n",
    "        continue\n",
    "    else:\n",
    "        res.append(p)\n",
    "\n",
    "print(\" \".join(res))\n"
   ]
  },
  {
   "cell_type": "code",
   "execution_count": null,
   "id": "f5fc4ff7",
   "metadata": {},
   "outputs": [],
   "source": []
  }
 ],
 "metadata": {
  "kernelspec": {
   "display_name": "Python 3",
   "language": "python",
   "name": "python3"
  },
  "language_info": {
   "codemirror_mode": {
    "name": "ipython",
    "version": 3
   },
   "file_extension": ".py",
   "mimetype": "text/x-python",
   "name": "python",
   "nbconvert_exporter": "python",
   "pygments_lexer": "ipython3",
   "version": "3.8.8"
  }
 },
 "nbformat": 4,
 "nbformat_minor": 5
}
