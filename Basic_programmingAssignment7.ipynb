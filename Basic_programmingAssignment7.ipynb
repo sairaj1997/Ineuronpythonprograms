{
 "cells": [
  {
   "cell_type": "code",
   "execution_count": 4,
   "id": "979c0f69",
   "metadata": {},
   "outputs": [
    {
     "name": "stdout",
     "output_type": "stream",
     "text": [
      "15\n"
     ]
    }
   ],
   "source": [
    "#1.write a program to find the sum of elements in array\n",
    "n=[1,2,3,4,5]\n",
    "sum=0\n",
    "for i in range(len(n)):\n",
    "    sum=sum+n[i]\n",
    "print(sum)\n"
   ]
  },
  {
   "cell_type": "code",
   "execution_count": 8,
   "id": "180da12e",
   "metadata": {},
   "outputs": [
    {
     "name": "stdout",
     "output_type": "stream",
     "text": [
      "99\n"
     ]
    }
   ],
   "source": [
    "#2.python program to find the largest element in an array\n",
    "n1=[99,6,7,1]\n",
    "max=n1[0]\n",
    "for i in range(len(n1)):\n",
    "    if n1[0]<n1[i]:\n",
    "        max=n1[i]\n",
    "    else:\n",
    "        max=n1[0]\n",
    "print(max)"
   ]
  },
  {
   "cell_type": "code",
   "execution_count": 12,
   "id": "4664b3e4",
   "metadata": {},
   "outputs": [
    {
     "name": "stdout",
     "output_type": "stream",
     "text": [
      "3 4 5 1 2 "
     ]
    }
   ],
   "source": [
    "#3.python program for array rotation\n",
    "#Here we are going to use left array rotation\n",
    "def leftRt(arr,d,n):\n",
    "    for i in range(d):\n",
    "        leftRtOne(arr,n)\n",
    "#function to store d elements in temp and to shift rest of elements without using temp to previous locations\n",
    "def leftRtOne(arr,n):\n",
    "    temp=arr[0]\n",
    "    for i in range(n-1):\n",
    "        arr[i]=arr[i+1]\n",
    "    arr[n-1]=temp\n",
    "#function to print the array\n",
    "def printArray(arr,size):\n",
    "    for i in range(size):\n",
    "        print(arr[i],end=\" \")\n",
    "\n",
    "arr=[1,2,3,4,5]\n",
    "leftRt(arr,2,5)\n",
    "printArray(arr,5)"
   ]
  },
  {
   "cell_type": "code",
   "execution_count": 15,
   "id": "68af1841",
   "metadata": {},
   "outputs": [
    {
     "name": "stdout",
     "output_type": "stream",
     "text": [
      "2 3 4 5 "
     ]
    }
   ],
   "source": [
    "#4.python program to split the array and first part to the last\n",
    "def splitArr(arr,n,s):\n",
    "    for i in range(0,s):\n",
    "        temp=arr[0]\n",
    "        for j in range(0,n-1):\n",
    "            arr[j]=arr[j+1]\n",
    "            \n",
    "        arr[n-1]=temp\n",
    "arr=[5,2,3,4]\n",
    "n=len(arr)\n",
    "s=1\n",
    "\n",
    "splitArr(arr,n,s)\n",
    "\n",
    "for i in range(0,n):\n",
    "    print(arr[i],end=' ')"
   ]
  },
  {
   "cell_type": "code",
   "execution_count": 17,
   "id": "c4892260",
   "metadata": {},
   "outputs": [
    {
     "name": "stdout",
     "output_type": "stream",
     "text": [
      "True\n"
     ]
    }
   ],
   "source": [
    "#python program to check if a given array is montonic or not\n",
    "def monotonic(a):\n",
    "    return (all(a[i]<=a[i+1] for i in range(len(a)-1) ))or all(a[i]>=a[i+1]for i in range(len(a)-1))\n",
    "\n",
    "a=[90,34343,3435]\n",
    "\n",
    "print(monotonic(a))"
   ]
  },
  {
   "cell_type": "code",
   "execution_count": null,
   "id": "c23925a2",
   "metadata": {},
   "outputs": [],
   "source": []
  }
 ],
 "metadata": {
  "kernelspec": {
   "display_name": "Python 3",
   "language": "python",
   "name": "python3"
  },
  "language_info": {
   "codemirror_mode": {
    "name": "ipython",
    "version": 3
   },
   "file_extension": ".py",
   "mimetype": "text/x-python",
   "name": "python",
   "nbconvert_exporter": "python",
   "pygments_lexer": "ipython3",
   "version": "3.8.8"
  }
 },
 "nbformat": 4,
 "nbformat_minor": 5
}
