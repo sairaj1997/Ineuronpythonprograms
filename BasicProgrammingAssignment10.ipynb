{
 "cells": [
  {
   "cell_type": "code",
   "execution_count": 14,
   "id": "14df08b4",
   "metadata": {},
   "outputs": [
    {
     "name": "stdout",
     "output_type": "stream",
     "text": [
      "15\n"
     ]
    }
   ],
   "source": [
    "#1.python program to find the sum of elements in a list\n",
    "l1=[1,2,3,4,5]\n",
    "s=0\n",
    "for i in l1:\n",
    "    s=s+i\n",
    "    \n",
    "print(s)"
   ]
  },
  {
   "cell_type": "code",
   "execution_count": 13,
   "id": "b1b9ea83",
   "metadata": {},
   "outputs": [
    {
     "name": "stdout",
     "output_type": "stream",
     "text": [
      "24\n"
     ]
    }
   ],
   "source": [
    "#2.python program to multiply all the numbers in the list\n",
    "mlist=[12,2]\n",
    "product=1\n",
    "for x in mlist:\n",
    "    product=product*x\n",
    "print(product)"
   ]
  },
  {
   "cell_type": "code",
   "execution_count": 25,
   "id": "76961a01",
   "metadata": {},
   "outputs": [
    {
     "name": "stdout",
     "output_type": "stream",
     "text": [
      "1\n"
     ]
    }
   ],
   "source": [
    "#3.python program to find a smallest number in the list\n",
    "s=[2000,30000,1]\n",
    "min=s[0]\n",
    "for i in s:\n",
    "    if i<min:\n",
    "        min=i\n",
    "print(min)"
   ]
  },
  {
   "cell_type": "code",
   "execution_count": 52,
   "id": "08fba5d7",
   "metadata": {},
   "outputs": [
    {
     "name": "stdout",
     "output_type": "stream",
     "text": [
      "30000\n"
     ]
    }
   ],
   "source": [
    "#4.#3.python program to find a largest number in the list\n",
    "s=[2000,30000,1]\n",
    "max=s[0]\n",
    "for i in s:\n",
    "    if i>max:\n",
    "        max=i\n",
    "print(max)"
   ]
  },
  {
   "cell_type": "code",
   "execution_count": 29,
   "id": "95b49c9b",
   "metadata": {},
   "outputs": [
    {
     "name": "stdout",
     "output_type": "stream",
     "text": [
      "second largest element is 5000\n"
     ]
    }
   ],
   "source": [
    "#5.python program to find second largest number in the list\n",
    "largest=[3000,2000,9000,5000]\n",
    "largest.sort()\n",
    "print(\"second largest element is\",largest[-2])"
   ]
  },
  {
   "cell_type": "code",
   "execution_count": 33,
   "id": "448a90a1",
   "metadata": {},
   "outputs": [
    {
     "name": "stdout",
     "output_type": "stream",
     "text": [
      "enter n value3\n",
      "[3000, 5000, 9000]\n"
     ]
    }
   ],
   "source": [
    "#6.python program to find N largest element in the list\n",
    "Nlargest=[3000,2000,9000,5000]\n",
    "n=int(input(\"enter n value\"))\n",
    "if(n <len(Nlargest)):\n",
    "    Nlargest.sort()\n",
    "    print(Nlargest[-n:])\n",
    "else:\n",
    "    print(\"n value exceeds list length\")"
   ]
  },
  {
   "cell_type": "code",
   "execution_count": 34,
   "id": "f6a1edaa",
   "metadata": {},
   "outputs": [
    {
     "name": "stdout",
     "output_type": "stream",
     "text": [
      "2\n",
      "4\n"
     ]
    }
   ],
   "source": [
    "#7.python program to print even numbers in the list\n",
    "list=[1,2,3,4,5]\n",
    "for x in list:\n",
    "    if x%2==0:\n",
    "        print(x)\n",
    "        "
   ]
  },
  {
   "cell_type": "code",
   "execution_count": 35,
   "id": "5289074f",
   "metadata": {},
   "outputs": [
    {
     "name": "stdout",
     "output_type": "stream",
     "text": [
      "1\n",
      "3\n",
      "5\n"
     ]
    }
   ],
   "source": [
    "#8.python program to print odd numbers in the list\n",
    "list=[1,2,3,4,5]\n",
    "for x in list:\n",
    "    if x%2!=0:\n",
    "        print(x)"
   ]
  },
  {
   "cell_type": "code",
   "execution_count": 50,
   "id": "c13b1f8d",
   "metadata": {},
   "outputs": [
    {
     "name": "stdout",
     "output_type": "stream",
     "text": [
      "List after empty list removal : [5, 6, 3, 9]\n"
     ]
    }
   ],
   "source": [
    "#9.python program to remove empty list from a list\n",
    "test_list = [5, 6, [], 3, [], [], 9]\n",
    "res = [x for x in test_list if x!=[]]\n",
    "# printing result \n",
    "print (\"List after empty list removal : \" + str(res))"
   ]
  },
  {
   "cell_type": "code",
   "execution_count": 51,
   "id": "bdf6360b",
   "metadata": {},
   "outputs": [
    {
     "name": "stdout",
     "output_type": "stream",
     "text": [
      "[12, 3, 4, 5, 6, 7]\n"
     ]
    }
   ],
   "source": [
    "#10.python program to clone list\n",
    "list=[12,3,4,5,6,7]\n",
    "reslist=list[:]\n",
    "print(reslist)"
   ]
  },
  {
   "cell_type": "code",
   "execution_count": 55,
   "id": "20626067",
   "metadata": {},
   "outputs": [
    {
     "data": {
      "text/plain": [
       "2"
      ]
     },
     "execution_count": 55,
     "metadata": {},
     "output_type": "execute_result"
    }
   ],
   "source": [
    "#11.write a python program to count ocuurences of an element in the list\n",
    "def count(lst,x):\n",
    "    count=0\n",
    "    for i in lst:\n",
    "        if i==x:\n",
    "            count=count+1\n",
    "    return count\n",
    "lst=[1,2,3,4,1,1,1,2]\n",
    "x=2\n",
    "count(lst,x)"
   ]
  },
  {
   "cell_type": "code",
   "execution_count": null,
   "id": "40d9e409",
   "metadata": {},
   "outputs": [],
   "source": []
  }
 ],
 "metadata": {
  "kernelspec": {
   "display_name": "Python 3",
   "language": "python",
   "name": "python3"
  },
  "language_info": {
   "codemirror_mode": {
    "name": "ipython",
    "version": 3
   },
   "file_extension": ".py",
   "mimetype": "text/x-python",
   "name": "python",
   "nbconvert_exporter": "python",
   "pygments_lexer": "ipython3",
   "version": "3.8.8"
  }
 },
 "nbformat": 4,
 "nbformat_minor": 5
}
