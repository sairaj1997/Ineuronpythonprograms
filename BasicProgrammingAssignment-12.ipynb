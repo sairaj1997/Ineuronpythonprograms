{
 "cells": [
  {
   "cell_type": "code",
   "execution_count": 8,
   "id": "667816db",
   "metadata": {},
   "outputs": [
    {
     "name": "stdout",
     "output_type": "stream",
     "text": [
      "[1, 2, 3, 4]\n"
     ]
    }
   ],
   "source": [
    "#1.Write a python program to extract unique values in a dictionary\n",
    "my_dict={'s1':[1,2,3],\n",
    "        's2':[1,2,3,4]}\n",
    "res = list(sorted({ele for val in my_dict.values() for ele in val}))\n",
    "  \n",
    "print(res)"
   ]
  },
  {
   "cell_type": "code",
   "execution_count": 11,
   "id": "cfc531fd",
   "metadata": {},
   "outputs": [
    {
     "name": "stdout",
     "output_type": "stream",
     "text": [
      "500\n"
     ]
    }
   ],
   "source": [
    "#2.python program to find sum of all items in a dictionary\n",
    "test={\"s1\":200,\"s2\":300}\n",
    "list=[]\n",
    "s=0\n",
    "for i in test:\n",
    "    list.append(test[i])\n",
    "    res=sum(list)\n",
    "print(res)\n",
    "    "
   ]
  },
  {
   "cell_type": "code",
   "execution_count": 16,
   "id": "615a1df6",
   "metadata": {},
   "outputs": [
    {
     "name": "stdout",
     "output_type": "stream",
     "text": [
      "{'S1': 200, 'S2': 200}\n"
     ]
    }
   ],
   "source": [
    "#3.python program for merging two dictionaries\n",
    "def join(d1,d2):\n",
    "    res={**d1,**d2}\n",
    "    return res\n",
    "d1={'S1':200}\n",
    "d2={'S2':200}\n",
    "d3=join(d1,d2)\n",
    "print(d3)"
   ]
  },
  {
   "cell_type": "code",
   "execution_count": 22,
   "id": "2d2ac126",
   "metadata": {},
   "outputs": [
    {
     "name": "stdout",
     "output_type": "stream",
     "text": [
      "{1: 'sairaj', 2: 'x', 3: 'y', 4: 'z'}\n"
     ]
    }
   ],
   "source": [
    "#4.python program to convert key values list into flat dictionary\n",
    "#we must use zip function\n",
    "d1={'S1':[1,2,3,4]}\n",
    "d2={'S2':[\"sairaj\",\"x\",\"y\",\"z\"]}\n",
    "res=dict(zip(d1['S1'],d2['S2']))\n",
    "print(res)"
   ]
  },
  {
   "cell_type": "code",
   "execution_count": 42,
   "id": "a18aa993",
   "metadata": {},
   "outputs": [
    {
     "name": "stdout",
     "output_type": "stream",
     "text": [
      "True\n"
     ]
    }
   ],
   "source": [
    "#5.python program to check order of the charecter in string using OrderedDict()\n",
    "from collections import OrderedDict\n",
    "def order(input,pattern):\n",
    "    dict=OrderedDict.fromkeys(input)\n",
    "    ptrl=0\n",
    "    for key,value in dict.items():\n",
    "        if(key==pattern[ptrl]):\n",
    "            ptrl=ptrl+1\n",
    "        if(ptrl==len(pattern)):\n",
    "            return 'True'\n",
    "        \n",
    "    return 'False'\n",
    "if __name__ == \"__main__\": \n",
    "    input = 'engineering'\n",
    "    pattern = 'egr'\n",
    "    print (order(input,pattern)) \n",
    "        \n",
    "\n"
   ]
  },
  {
   "cell_type": "code",
   "execution_count": 28,
   "id": "ffc6fdde",
   "metadata": {},
   "outputs": [
    {
     "name": "stdout",
     "output_type": "stream",
     "text": [
      "1 2 3 4 5 6 "
     ]
    }
   ],
   "source": [
    "#6.Write a Python program to sort Python Dictionaries by Key or Value?\n",
    "value ={}   \n",
    " \n",
    "value[1] = 2\n",
    "value[5] = 12\n",
    "value[4] = 24\n",
    "value[6] = 18     \n",
    "value[3] = 323\n",
    "value[2]=32\n",
    " \n",
    "\n",
    "for i in sorted (value.keys()) :\n",
    "     print(i, end = \" \")\n",
    " "
   ]
  },
  {
   "cell_type": "code",
   "execution_count": null,
   "id": "0cb97b9b",
   "metadata": {},
   "outputs": [],
   "source": []
  }
 ],
 "metadata": {
  "kernelspec": {
   "display_name": "Python 3",
   "language": "python",
   "name": "python3"
  },
  "language_info": {
   "codemirror_mode": {
    "name": "ipython",
    "version": 3
   },
   "file_extension": ".py",
   "mimetype": "text/x-python",
   "name": "python",
   "nbconvert_exporter": "python",
   "pygments_lexer": "ipython3",
   "version": "3.8.8"
  }
 },
 "nbformat": 4,
 "nbformat_minor": 5
}
