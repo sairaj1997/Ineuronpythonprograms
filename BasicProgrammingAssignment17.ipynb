{
 "cells": [
  {
   "cell_type": "markdown",
   "id": "20cf3215",
   "metadata": {},
   "source": [
    "Question1. Create a function that takes three arguments a, b, c and returns the sum of the numbers that are evenly divided by c from the range a, b inclusive.\n",
    "Examples\n",
    "evenly_divisible(1, 10, 20) ➞ 0\n",
    "#No number between 1 and 10 can be evenly divided by 20.\n",
    "\n",
    "evenly_divisible(1, 10, 2) ➞ 30\n",
    "2 + 4 + 6 + 8 + 10 = 30\n",
    "\n",
    "evenly_divisible(1, 10, 3) ➞ 18\n",
    "3 + 6 + 9 = 18\n",
    "\n"
   ]
  },
  {
   "cell_type": "code",
   "execution_count": 5,
   "id": "a6f6f750",
   "metadata": {},
   "outputs": [
    {
     "name": "stdout",
     "output_type": "stream",
     "text": [
      "(1, 10, 2)->30\n"
     ]
    }
   ],
   "source": [
    "def evenly_divisible(a,b,c):\n",
    "    res=[]\n",
    "    for i in range(a,b+1):\n",
    "        if i%c==0:\n",
    "            res.append(i)\n",
    "    print(f'{a,b,c}->{sum(res)}')\n",
    "        \n",
    "evenly_divisible(1,10,2)"
   ]
  },
  {
   "cell_type": "markdown",
   "id": "0eb5c88a",
   "metadata": {},
   "source": [
    "Question2. Create a function that returns True if a given inequality expression is correct and False otherwise.\n",
    "Examples\n",
    "correct_signs(\"3 < 7 < 11\") ➞ True\n",
    "\n",
    "correct_signs(\"13 > 44 > 33 > 1\") ➞ False\n",
    "\n",
    "correct_signs(\"1 < 2 < 6 < 9 > 3\") ➞ True\n",
    "\n"
   ]
  },
  {
   "cell_type": "code",
   "execution_count": 2,
   "id": "9a885cbb",
   "metadata": {},
   "outputs": [
    {
     "name": "stdout",
     "output_type": "stream",
     "text": [
      "enter expression to evaluate13>44>33>1\n",
      "13>44>33>1->False\n"
     ]
    }
   ],
   "source": [
    "def inequality():\n",
    "    expression=input(\"enter expression to evaluate\")\n",
    "    result=eval(expression)\n",
    "    print(f'{expression}->{result}')\n",
    "    \n",
    "inequality()\n",
    "    "
   ]
  },
  {
   "cell_type": "markdown",
   "id": "2e38b809",
   "metadata": {},
   "source": [
    "Question3. Create a function that replaces all the vowels in a string with a specified character.\n",
    "Examples\n",
    "replace_vowels(\"the aardvark\", \"#\") ➞ \"th# ##rdv#rk\"\n",
    "\n",
    "replace_vowels(\"minnie mouse\", \"?\") ➞ \"m?nn?? m??s?\"\n",
    "\n",
    "replace_vowels(\"shakespeare\", \"*\") ➞ \"sh*k*sp**r*\"\n",
    "\n"
   ]
  },
  {
   "cell_type": "code",
   "execution_count": 6,
   "id": "9a845a6c",
   "metadata": {},
   "outputs": [
    {
     "name": "stdout",
     "output_type": "stream",
     "text": [
      "enter the stringshakespeare\n",
      "enter char*\n",
      "shakespeare*->sh*k*sp**r*\n"
     ]
    }
   ],
   "source": [
    "def replace():\n",
    "    input_string=input(\"enter the string\")\n",
    "    vowels=['a','e','i','o','u','A','E','I','O','U']\n",
    "    str_copy=input_string\n",
    "    input_char=input(\"enter char\")\n",
    "    for ele in input_string:\n",
    "        if ele in vowels:\n",
    "            input_string=input_string.replace(ele,input_char)\n",
    "    print(f'{str_copy}{input_char}->{input_string}')\n",
    "    \n",
    "replace()\n",
    "    "
   ]
  },
  {
   "cell_type": "markdown",
   "id": "4cdb0833",
   "metadata": {},
   "source": [
    "Question4. Write a function that calculates the factorial of a number recursively.\n",
    "Examples\n",
    "factorial(5) ➞ 120\n",
    "\n",
    "factorial(3) ➞ 6\n",
    "\n",
    "factorial(1) ➞ 1\n",
    "\n",
    "factorial(0) ➞ 1\n"
   ]
  },
  {
   "cell_type": "code",
   "execution_count": 7,
   "id": "050c2b07",
   "metadata": {},
   "outputs": [
    {
     "name": "stdout",
     "output_type": "stream",
     "text": [
      "factorial(5)->120\n"
     ]
    }
   ],
   "source": [
    "def factorial(n):\n",
    "    if n==0:\n",
    "        return 1\n",
    "    return n*factorial(n-1)\n",
    "\n",
    "print(f'factorial(5)->{factorial(5)}')"
   ]
  },
  {
   "cell_type": "markdown",
   "id": "80a54877",
   "metadata": {},
   "source": [
    "Question 5\n",
    "Hamming distance is the number of characters that differ between two strings.\n",
    "To illustrate:\n",
    "String1: \"abcbba\"\n",
    "String2: \"abcbda\"\n",
    "\n",
    "Hamming Distance: 1 - \"b\" vs. \"d\" is the only difference.\n",
    "Create a function that computes the hamming distance between two strings.\n",
    "Examples\n",
    "hamming_distance(\"abcde\", \"bcdef\") ➞ 5\n",
    "\n",
    "hamming_distance(\"abcde\", \"abcde\") ➞ 0\n",
    "\n",
    "hamming_distance(\"strong\", \"strung\") ➞ \n"
   ]
  },
  {
   "cell_type": "code",
   "execution_count": 11,
   "id": "3a1602c4",
   "metadata": {},
   "outputs": [
    {
     "name": "stdout",
     "output_type": "stream",
     "text": [
      "enter string1abcd\n",
      "enter string2abce\n",
      "hamming distanceabcdabce->1\n"
     ]
    }
   ],
   "source": [
    "def HamDistance():\n",
    "    string1=input(\"enter string1\")\n",
    "    string2=input(\"enter string2\")\n",
    "    if(len(string1)==len(string2)):\n",
    "        count=0\n",
    "        for i in range(len(string1)):\n",
    "            if  string1[i]!=string2[i]:\n",
    "                count=count+1\n",
    "                print(f'hamming distance{string1}{string2}->{count}')\n",
    "            \n",
    "                \n",
    "HamDistance()"
   ]
  },
  {
   "cell_type": "code",
   "execution_count": null,
   "id": "d4e8a080",
   "metadata": {},
   "outputs": [],
   "source": []
  }
 ],
 "metadata": {
  "kernelspec": {
   "display_name": "Python 3 (ipykernel)",
   "language": "python",
   "name": "python3"
  },
  "language_info": {
   "codemirror_mode": {
    "name": "ipython",
    "version": 3
   },
   "file_extension": ".py",
   "mimetype": "text/x-python",
   "name": "python",
   "nbconvert_exporter": "python",
   "pygments_lexer": "ipython3",
   "version": "3.9.12"
  }
 },
 "nbformat": 4,
 "nbformat_minor": 5
}
