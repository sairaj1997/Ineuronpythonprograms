{
 "cells": [
  {
   "cell_type": "code",
   "execution_count": 9,
   "id": "c0b83dee",
   "metadata": {},
   "outputs": [
    {
     "data": {
      "text/plain": [
       "['hello']"
      ]
     },
     "execution_count": 9,
     "metadata": {},
     "output_type": "execute_result"
    }
   ],
   "source": [
    "#1.python program to find words which are greater than given length k\n",
    "\n",
    "def strlenght(k,Str):\n",
    "    final_res=[]\n",
    "    words=Str.split(\" \")\n",
    "    for x in words:\n",
    "        if len(x)> k:\n",
    "            final_res.append(x)\n",
    "    return final_res\n",
    "\n",
    "k=3\n",
    "Str=\"Hi hello how are you\"\n",
    "strlenght(k,Str)"
   ]
  },
  {
   "cell_type": "code",
   "execution_count": 10,
   "id": "e0d67084",
   "metadata": {},
   "outputs": [
    {
     "data": {
      "text/plain": [
       "'Siraj'"
      ]
     },
     "execution_count": 10,
     "metadata": {},
     "output_type": "execute_result"
    }
   ],
   "source": [
    "#2.python program for removing ith charecter in string\n",
    "\n",
    "def  ith_char(string,i):\n",
    "    x=string[:i]\n",
    "    y=string[i+1:]\n",
    "    return x+y\n",
    "string=\"Sairaj\"\n",
    "i=1\n",
    "ith_char(string,i)"
   ]
  },
  {
   "cell_type": "code",
   "execution_count": 18,
   "id": "a464c514",
   "metadata": {},
   "outputs": [
    {
     "name": "stdout",
     "output_type": "stream",
     "text": [
      "['hi', 'hello']\n"
     ]
    },
    {
     "data": {
      "text/plain": [
       "'hi*hello'"
      ]
     },
     "execution_count": 18,
     "metadata": {},
     "output_type": "execute_result"
    }
   ],
   "source": [
    "#2.python program to split and join a string\n",
    "def splitJoin(String):\n",
    "    res=String.split(\" \")\n",
    "    final_res=\"*\".join(res)\n",
    "    print(res)\n",
    "    return final_res\n",
    "\n",
    "splitJoin(\"hi hello\")"
   ]
  },
  {
   "cell_type": "code",
   "execution_count": 25,
   "id": "708cdf3e",
   "metadata": {},
   "outputs": [
    {
     "name": "stdout",
     "output_type": "stream",
     "text": [
      "yes\n",
      "No\n"
     ]
    }
   ],
   "source": [
    "#3.python program to check if a given string is binarystring or not\n",
    "def binaryString(String):\n",
    "    char_set=set(String)\n",
    "    binary={'0','1'}\n",
    "    \n",
    "    if binary==char_set or char_set=={'0'} or char_set=={'1'}:\n",
    "        print(\"yes\")\n",
    "    else:\n",
    "        print(\"No\")\n",
    "        \n",
    "String=\"0101010\"\n",
    "String1=\"sairaj123\"\n",
    "binaryString(String)\n",
    "binaryString(String1)\n",
    "            \n",
    "    \n",
    "    "
   ]
  },
  {
   "cell_type": "code",
   "execution_count": 28,
   "id": "e4a9fd88",
   "metadata": {},
   "outputs": [
    {
     "data": {
      "text/plain": [
       "'  Hi'"
      ]
     },
     "execution_count": 28,
     "metadata": {},
     "output_type": "execute_result"
    }
   ],
   "source": [
    "#4. python program to find uncommon words from two strings\n",
    "def notcommon(a,b):\n",
    "    A=a.split(\" \")\n",
    "    B=b.split(\" \")\n",
    "    res=\" \"\n",
    "    for j in A:\n",
    "        if j not in B:\n",
    "            res=res+\" \"+j\n",
    "    for i in B:\n",
    "        if i not in A:\n",
    "            res=res+\" \"+i\n",
    "    return res\n",
    "a=\"Hi hello how\"\n",
    "b=\"hello how\"\n",
    "notcommon(a,b)"
   ]
  },
  {
   "cell_type": "code",
   "execution_count": 2,
   "id": "640e0e0f",
   "metadata": {},
   "outputs": [
    {
     "name": "stdout",
     "output_type": "stream",
     "text": [
      "Enter a stringsairaj\n",
      "['a']\n"
     ]
    }
   ],
   "source": [
    "#5.python program to find all duplicate charecters in a string\n",
    "String=input(\"Enter a string\")\n",
    "repeated=[]\n",
    "for char in String:\n",
    "    if String.count(char)>1:\n",
    "        if char not in repeated:\n",
    "            repeated.append(char)\n",
    "print(repeated)\n",
    "        \n",
    "    "
   ]
  },
  {
   "cell_type": "code",
   "execution_count": 8,
   "id": "e1345b77",
   "metadata": {},
   "outputs": [
    {
     "name": "stdout",
     "output_type": "stream",
     "text": [
      "Enter a stringsairaj!\n",
      "String has special cahrecters\n"
     ]
    }
   ],
   "source": [
    "#6.python program to check if a string contains speical charecters or not\n",
    "import re\n",
    "String=input(\"Enter a string\")\n",
    "res=re.compile(\"[!@_#$%^()<>?/\\|}{:*]\")\n",
    "if (res.search(String)==None):\n",
    "    print(\"special charecters are not there\")\n",
    "else:\n",
    "    print(\"String has special charecters\")\n",
    "\n",
    "\n",
    "      \n",
    "    "
   ]
  },
  {
   "cell_type": "code",
   "execution_count": null,
   "id": "59eade3b",
   "metadata": {},
   "outputs": [],
   "source": []
  }
 ],
 "metadata": {
  "kernelspec": {
   "display_name": "Python 3",
   "language": "python",
   "name": "python3"
  },
  "language_info": {
   "codemirror_mode": {
    "name": "ipython",
    "version": 3
   },
   "file_extension": ".py",
   "mimetype": "text/x-python",
   "name": "python",
   "nbconvert_exporter": "python",
   "pygments_lexer": "ipython3",
   "version": "3.8.8"
  }
 },
 "nbformat": 4,
 "nbformat_minor": 5
}
