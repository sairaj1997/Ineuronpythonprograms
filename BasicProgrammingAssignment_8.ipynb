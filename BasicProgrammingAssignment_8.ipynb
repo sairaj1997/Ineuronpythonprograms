{
 "cells": [
  {
   "cell_type": "code",
   "execution_count": 5,
   "id": "86659bfb",
   "metadata": {},
   "outputs": [
    {
     "name": "stdout",
     "output_type": "stream",
     "text": [
      "[2, 2, 2]\n",
      "[2, 2, 2]\n",
      "[2, 2, 2]\n"
     ]
    }
   ],
   "source": [
    "#1.python program to add two matrices\n",
    "x=[[1,1,1],\n",
    "  [1,1,1],\n",
    "  [1,1,1]]\n",
    "\n",
    "y=[[1,1,1],\n",
    "  [1,1,1],\n",
    "  [1,1,1]]\n",
    "\n",
    "res=[[0,0,0],\n",
    "    [0,0,0],\n",
    "    [0,0,0]]\n",
    "\n",
    "for i in range(len(x)):\n",
    "    for j in range(len(x[0])):\n",
    "        res[i][j]=x[i][j]+y[i][j]\n",
    "\n",
    "for x in res:\n",
    "    print(x)\n"
   ]
  },
  {
   "cell_type": "code",
   "execution_count": 6,
   "id": "dbd68dd3",
   "metadata": {},
   "outputs": [
    {
     "name": "stdout",
     "output_type": "stream",
     "text": [
      "[3 3 3]\n",
      "[3 3 3]\n",
      "[3 3 3]\n"
     ]
    }
   ],
   "source": [
    "#2.python program to multiply two matrices\n",
    "import numpy as np\n",
    "x=[[1,1,1],\n",
    "  [1,1,1],\n",
    "  [1,1,1]]\n",
    "\n",
    "y=[[1,1,1],\n",
    "  [1,1,1],\n",
    "  [1,1,1]]\n",
    "\n",
    "res=[[0,0,0],\n",
    "    [0,0,0],\n",
    "    [0,0,0]]\n",
    "\n",
    "res=np.dot(x,y)\n",
    "\n",
    "for x in res:\n",
    "    print(x)"
   ]
  },
  {
   "cell_type": "code",
   "execution_count": 8,
   "id": "834167a3",
   "metadata": {},
   "outputs": [
    {
     "name": "stdout",
     "output_type": "stream",
     "text": [
      "[1, 4, 7]\n",
      "[2, 5, 8]\n",
      "[3, 6, 9]\n"
     ]
    }
   ],
   "source": [
    "#3.python program to transpose a matrix\n",
    "x=[[1,2,3],\n",
    "  [4,5,6],\n",
    "  [7,8,9]]\n",
    "\n",
    "res=[[0,0,0],\n",
    "    [0,0,0],\n",
    "    [0,0,0]]\n",
    "for i in range(len(x)):\n",
    "    for j in range(len(x[0])):\n",
    "        res[j][i]=x[i][j]\n",
    "        \n",
    "for x in res:\n",
    "    print(x)"
   ]
  },
  {
   "cell_type": "code",
   "execution_count": 13,
   "id": "7567c2b3",
   "metadata": {},
   "outputs": [
    {
     "name": "stdout",
     "output_type": "stream",
     "text": [
      "hello?inhiorder\n"
     ]
    }
   ],
   "source": [
    "#4.python program to sort words of a string in alphabetic order\n",
    "string=\"Hi hello?in order\"\n",
    "res=string.lower().split()\n",
    "res.sort()\n",
    "print(''.join(res))"
   ]
  },
  {
   "cell_type": "code",
   "execution_count": 14,
   "id": "60fac242",
   "metadata": {},
   "outputs": [
    {
     "name": "stdout",
     "output_type": "stream",
     "text": [
      "Enter stringsairaj!\n",
      "sairaj\n"
     ]
    }
   ],
   "source": [
    "#5.python program to remove punctations from a given word\n",
    "pun=\"!=-_+-@#$%^&*{}()|:\"\n",
    "st=input(\"Enter string\")\n",
    "res=\"\"\n",
    "for char in st:\n",
    "    if char not in pun:\n",
    "        res=res+char\n",
    "\n",
    "print(res)\n",
    "        "
   ]
  },
  {
   "cell_type": "code",
   "execution_count": null,
   "id": "0e345851",
   "metadata": {},
   "outputs": [],
   "source": []
  }
 ],
 "metadata": {
  "kernelspec": {
   "display_name": "Python 3",
   "language": "python",
   "name": "python3"
  },
  "language_info": {
   "codemirror_mode": {
    "name": "ipython",
    "version": 3
   },
   "file_extension": ".py",
   "mimetype": "text/x-python",
   "name": "python",
   "nbconvert_exporter": "python",
   "pygments_lexer": "ipython3",
   "version": "3.8.8"
  }
 },
 "nbformat": 4,
 "nbformat_minor": 5
}
