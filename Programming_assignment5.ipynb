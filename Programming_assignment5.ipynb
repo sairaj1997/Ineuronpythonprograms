{
 "cells": [
  {
   "cell_type": "code",
   "execution_count": 3,
   "metadata": {},
   "outputs": [],
   "source": [
    "#1.python program to find LCM of two numbers\n",
    "#function to find lcm\n",
    "def lcm(a,b):\n",
    "    for i in range(1,a*b+1):\n",
    "        if i%a==0 and i%b==0:\n",
    "            print(\"LCM is\",i)\n",
    "            break\n",
    "            "
   ]
  },
  {
   "cell_type": "code",
   "execution_count": 5,
   "metadata": {},
   "outputs": [
    {
     "name": "stdout",
     "output_type": "stream",
     "text": [
      "LCM is 150\n"
     ]
    }
   ],
   "source": [
    "lcm(30,50)"
   ]
  },
  {
   "cell_type": "code",
   "execution_count": 13,
   "metadata": {},
   "outputs": [
    {
     "name": "stdout",
     "output_type": "stream",
     "text": [
      "enter a number25\n",
      "enter b number15\n",
      "HCF is 5\n"
     ]
    }
   ],
   "source": [
    "#2.python program to find HCF of two numbers?\n",
    "a=int(input(\"enter a number\"))\n",
    "b=int(input(\"enter b number\"))\n",
    "while a%b!=0:\n",
    "    rem=a%b\n",
    "    a=b\n",
    "    b=rem\n",
    "print(\"HCF is\",b)"
   ]
  },
  {
   "cell_type": "code",
   "execution_count": 2,
   "metadata": {},
   "outputs": [
    {
     "name": "stdout",
     "output_type": "stream",
     "text": [
      "Enter a decimal number to convert it into Binary,Octal and Hexa Decimal34\n",
      "0b100010\n",
      "0o42\n",
      "0x22\n"
     ]
    }
   ],
   "source": [
    "#3.python program to convert decimal to Binary,Octal and HexaDecimal\n",
    "num=int(input(\"Enter a decimal number to convert it into Binary,Octal and Hexa Decimal\"))\n",
    "print(bin(num))\n",
    "print(oct(num))\n",
    "print(hex(num))"
   ]
  },
  {
   "cell_type": "code",
   "execution_count": 8,
   "metadata": {},
   "outputs": [
    {
     "name": "stdout",
     "output_type": "stream",
     "text": [
      "Enter the key to find its Ascii valuei\n",
      "Ascii value is 105\n"
     ]
    }
   ],
   "source": [
    "#4.Write a program to find Ascii value of a character\n",
    "#we can use built in function called ord()\n",
    "var=input(\"Enter the key to find its Ascii value\")\n",
    "print(\"Ascii value is\",ord(var))"
   ]
  },
  {
   "cell_type": "code",
   "execution_count": 13,
   "metadata": {},
   "outputs": [
    {
     "name": "stdout",
     "output_type": "stream",
     "text": [
      "enter first number23\n",
      "enter second number 45\n",
      "enter the operator-\n",
      "sub is -22.0\n"
     ]
    }
   ],
   "source": [
    "#5.write a python program to make a simple calculator with 4 basic mathematical opearations\n",
    "num1=float(input(\"enter first number\"))\n",
    "num2=float(input(\"enter second number \"))\n",
    "op=input(\"enter the operator\")\n",
    "if op==\"+\":\n",
    "    res=num1+num2\n",
    "    print(\"addition is\",res)\n",
    "elif op==\"-\":\n",
    "    res=num1-num2\n",
    "    print(\"sub is\",res)\n",
    "elif op==\"*\":\n",
    "    res=num1*num2\n",
    "    print(\"mul is \",res)\n",
    "elif op==\"/\":\n",
    "    res=num1/num2\n",
    "    print(\"div is\",res)\n",
    "else:\n",
    "    print(\"enter valid one\")\n",
    "    "
   ]
  },
  {
   "cell_type": "code",
   "execution_count": null,
   "metadata": {},
   "outputs": [],
   "source": []
  }
 ],
 "metadata": {
  "kernelspec": {
   "display_name": "Python 3",
   "language": "python",
   "name": "python3"
  },
  "language_info": {
   "codemirror_mode": {
    "name": "ipython",
    "version": 3
   },
   "file_extension": ".py",
   "mimetype": "text/x-python",
   "name": "python",
   "nbconvert_exporter": "python",
   "pygments_lexer": "ipython3",
   "version": "3.8.5"
  }
 },
 "nbformat": 4,
 "nbformat_minor": 4
}
