{
 "cells": [
  {
   "cell_type": "code",
   "execution_count": 3,
   "id": "a2aab8a2",
   "metadata": {},
   "outputs": [
    {
     "name": "stdout",
     "output_type": "stream",
     "text": [
      "Enter the range5\n",
      "1\n",
      "1\n",
      "2\n",
      "3\n"
     ]
    }
   ],
   "source": [
    "#1.write a python program to display fibonacci sequence using recursion\n",
    "\n",
    "def fib(n):\n",
    "    if n==0:\n",
    "        return 0\n",
    "    elif n==1:\n",
    "        return 1\n",
    "    else:\n",
    "        return (fib(n-2)+fib(n-1))\n",
    "n=int(input(\"Enter the range\"))\n",
    "for n in range(1,n):\n",
    "    print(fib(n))"
   ]
  },
  {
   "cell_type": "code",
   "execution_count": 7,
   "id": "413ebd13",
   "metadata": {},
   "outputs": [
    {
     "name": "stdout",
     "output_type": "stream",
     "text": [
      "enter range4\n",
      "24\n"
     ]
    }
   ],
   "source": [
    "#2.write a python program to find factorial of a number using recursion\n",
    "def fact(n):\n",
    "    if n==1:\n",
    "        return 1\n",
    "    else:\n",
    "        return (n*fact(n-1))\n",
    "n=int(input(\"enter number\"))\n",
    "print(fact(n))"
   ]
  },
  {
   "cell_type": "code",
   "execution_count": 9,
   "id": "7c810c30",
   "metadata": {},
   "outputs": [
    {
     "name": "stdout",
     "output_type": "stream",
     "text": [
      "enter hegiht in cm170\n",
      "enter weight in kgs70\n",
      "your bmi is2.422145328719723e-07\n"
     ]
    }
   ],
   "source": [
    "#3.write a python program to calculate body mass index\n",
    "height=float(input(\"enter hegiht in cm\"))\n",
    "weight=float(input(\"enter weight in kgs\"))\n",
    "BMI=weight/(height*100)**2\n",
    "print(f\"your bmi is{BMI}\")"
   ]
  },
  {
   "cell_type": "code",
   "execution_count": 10,
   "id": "85a86e45",
   "metadata": {},
   "outputs": [
    {
     "name": "stdout",
     "output_type": "stream",
     "text": [
      "enter a number5\n",
      "1.6094379124341003\n"
     ]
    }
   ],
   "source": [
    "#4.program to calculate the natural logarithm of any number\n",
    "import math\n",
    "\n",
    "n=int(input(\"enter a number\"))\n",
    "res=math.log(n)\n",
    "print(res)"
   ]
  },
  {
   "cell_type": "code",
   "execution_count": 11,
   "id": "4c469ddf",
   "metadata": {},
   "outputs": [
    {
     "name": "stdout",
     "output_type": "stream",
     "text": [
      "enter a number5\n",
      "225\n"
     ]
    }
   ],
   "source": [
    "#5.python program to find cube sum of first n natural numbers\n",
    "sum=0\n",
    "n=int(input(\"enter a number\"))\n",
    "for i in range(1,n+1):\n",
    "    sum=sum+(i**3)\n",
    "print(sum)"
   ]
  }
 ],
 "metadata": {
  "kernelspec": {
   "display_name": "Python 3",
   "language": "python",
   "name": "python3"
  },
  "language_info": {
   "codemirror_mode": {
    "name": "ipython",
    "version": 3
   },
   "file_extension": ".py",
   "mimetype": "text/x-python",
   "name": "python",
   "nbconvert_exporter": "python",
   "pygments_lexer": "ipython3",
   "version": "3.8.8"
  }
 },
 "nbformat": 4,
 "nbformat_minor": 5
}
