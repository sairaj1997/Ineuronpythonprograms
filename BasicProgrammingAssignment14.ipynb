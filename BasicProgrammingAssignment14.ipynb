{
 "cells": [
  {
   "cell_type": "code",
   "execution_count": 2,
   "id": "7f56fde7",
   "metadata": {},
   "outputs": [
    {
     "name": "stdout",
     "output_type": "stream",
     "text": [
      "0\n",
      "7\n",
      "14\n",
      "21\n",
      "28\n",
      "35\n",
      "42\n",
      "49\n",
      "56\n",
      "63\n",
      "70\n",
      "77\n",
      "84\n",
      "91\n",
      "98\n"
     ]
    }
   ],
   "source": [
    "#Define a class with a generator which can iterate the numbers, which are divisible by 7, \n",
    "#between a given range 0 and n.Use yield.\n",
    "def div(num):\n",
    "    i=0\n",
    "    while i<num:\n",
    "        j=i\n",
    "        i=i+1\n",
    "        if j%7==0:\n",
    "            yield j\n",
    "    \n",
    "for n in div(100):\n",
    "    print(n)"
   ]
  },
  {
   "cell_type": "code",
   "execution_count": 4,
   "id": "2a0b8326",
   "metadata": {},
   "outputs": [
    {
     "name": "stdout",
     "output_type": "stream",
     "text": [
      "Enter the stringhi hello hello abc abc\n",
      "abc:2\n",
      "hello:2\n",
      "hi:1\n"
     ]
    }
   ],
   "source": [
    "#2.Write a program to compute the frequency of the words from input,The output should output after sorting the key alphanumerically\n",
    "\n",
    "sentence=input(\"Enter the string\")\n",
    "res={}\n",
    "for s in sentence.split():\n",
    "    res[s]=res.get(s,0)+1\n",
    "for key in sorted(res):\n",
    "    print(\"{}:{}\".format(key,res[key]))"
   ]
  },
  {
   "cell_type": "code",
   "execution_count": 10,
   "id": "8e30d509",
   "metadata": {},
   "outputs": [
    {
     "data": {
      "text/plain": [
       "'Female class'"
      ]
     },
     "execution_count": 10,
     "metadata": {},
     "output_type": "execute_result"
    }
   ],
   "source": [
    "#3.Define a class person and its twochild classes Male and Female All classes have a method \"getGender\" which can print\n",
    "#\"Male\" for male class and female for female class\n",
    "\n",
    "class Person:\n",
    "    def getGender(self):\n",
    "        return \"unknown\"\n",
    "class Male(Person):\n",
    "    def getGender(self):\n",
    "        return \"Male class\"\n",
    "class Female(Person):\n",
    "    def getGender(self):\n",
    "        return \"Female class\"\n",
    "    \n",
    "p=Person()\n",
    "p.getGender()\n",
    "q=Male()\n",
    "q.getGender()\n",
    "r=Female()\n",
    "r.getGender()"
   ]
  },
  {
   "cell_type": "code",
   "execution_count": 12,
   "id": "fe82163d",
   "metadata": {},
   "outputs": [
    {
     "name": "stdout",
     "output_type": "stream",
     "text": [
      "IPlayHockey\n",
      "IPlayFootBall\n",
      "ILoveHockey\n",
      "ILoveFootBall\n",
      "YouPlayHockey\n",
      "YouPlayFootBall\n",
      "YouLoveHockey\n",
      "YouLoveFootBall\n"
     ]
    }
   ],
   "source": [
    "#3.Please write a program to generate all sentences where subject is in [\"I\", \"You\"] and verb is in [\"Play\", \"Love\"] and the object is in [\"Hockey\",\"Football\"].\n",
    "\n",
    "subject=[\"I\",\"You\"]\n",
    "verb=[\"Play\",\"Love\"]\n",
    "objects=[\"Hockey\",\"FootBall\"]\n",
    "for sub in subject:\n",
    "    for ver in verb:\n",
    "        for obj in objects:\n",
    "            print(\"{}{}{}\".format(sub,ver,obj))\n",
    "            \n"
   ]
  },
  {
   "cell_type": "code",
   "execution_count": 15,
   "id": "25c792ff",
   "metadata": {},
   "outputs": [
    {
     "name": "stdout",
     "output_type": "stream",
     "text": [
      "b'x\\x9c\\xcbH\\xcd\\xc9\\xc9W(\\xcf/\\xcaIQ\\xcc \\x82\\r\\x00\\xbd[\\x11\\xf5'\n",
      "b'hello world!hello world!hello world!hello world!'\n"
     ]
    }
   ],
   "source": [
    "#4. write a program to compress and decompress the string \"hello world!hello world!hello world!hello world!\".\n",
    "import zlib\n",
    "res=\"hello world!hello world!hello world!hello world!\".encode()\n",
    "t=zlib.compress(res)\n",
    "print(t)\n",
    "print(zlib.decompress(t))"
   ]
  },
  {
   "cell_type": "code",
   "execution_count": 17,
   "id": "77da6fe6",
   "metadata": {},
   "outputs": [
    {
     "name": "stdout",
     "output_type": "stream",
     "text": [
      "Element is present at index 0\n"
     ]
    }
   ],
   "source": [
    "# Python 3 program for recursive binary search.\n",
    "# Modifications needed for the older Python 2 are found in comments.\n",
    "\n",
    "# Returns index of x in arr if present, else -1\n",
    "def binary_search(arr, low, high, target):\n",
    "\n",
    "    if high >= low:\n",
    "        mid = (high + low) // 2\n",
    "\n",
    "\n",
    "        if arr[mid] == target:\n",
    "            return mid\n",
    "\n",
    "\n",
    "        elif arr[mid] > target:\n",
    "                return binary_search(arr, low, mid - 1, target)\n",
    "\n",
    "        else:\n",
    "            return binary_search(arr, mid + 1, high, target)\n",
    "\n",
    "    else:\n",
    "        return -1\n",
    "\n",
    "\n",
    "arr = [ 22, 33, 44, 100, 400 ]\n",
    "target = 22\n",
    "\n",
    "\n",
    "finalresult = binary_search(arr, 0, len(arr)-1, target)\n",
    "\n",
    "if result != -1:\n",
    "    print(\"Element is present at index\", str(finalresult))\n",
    "else:\n",
    "    print(\"Element is not present in array\")\n"
   ]
  }
 ],
 "metadata": {
  "kernelspec": {
   "display_name": "Python 3",
   "language": "python",
   "name": "python3"
  },
  "language_info": {
   "codemirror_mode": {
    "name": "ipython",
    "version": 3
   },
   "file_extension": ".py",
   "mimetype": "text/x-python",
   "name": "python",
   "nbconvert_exporter": "python",
   "pygments_lexer": "ipython3",
   "version": "3.8.8"
  }
 },
 "nbformat": 4,
 "nbformat_minor": 5
}
