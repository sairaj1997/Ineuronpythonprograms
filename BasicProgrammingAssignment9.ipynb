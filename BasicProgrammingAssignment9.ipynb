{
 "cells": [
  {
   "cell_type": "code",
   "execution_count": 2,
   "id": "52cd6946",
   "metadata": {},
   "outputs": [
    {
     "name": "stdout",
     "output_type": "stream",
     "text": [
      "Enter a number89\n",
      "89 is a disarium number\n"
     ]
    }
   ],
   "source": [
    "#1.write a program to check whether a given number is disarium number or not\n",
    "n=int(input(\"Enter a number\"))\n",
    "disarium=0\n",
    "#store original value in temp so that n can be used to compare at last\n",
    "temp=n\n",
    "#function to find position of a number\n",
    "def find_position(data):\n",
    "    str_data=str(data)\n",
    "    return len(str_data)\n",
    "while temp!=0:\n",
    "    disarium+=(temp%10)**find_position(temp)\n",
    "    temp//=10\n",
    "if disarium==n:\n",
    "    print(f\"{n} is a disarium number\")\n",
    "else:\n",
    "    print(\"not disarium\")"
   ]
  },
  {
   "cell_type": "code",
   "execution_count": 4,
   "id": "7ce3007e",
   "metadata": {},
   "outputs": [
    {
     "name": "stdout",
     "output_type": "stream",
     "text": [
      "Disarium numbers in range of 1 to 100\n",
      "1\n",
      "2\n",
      "3\n",
      "4\n",
      "5\n",
      "6\n",
      "7\n",
      "8\n",
      "9\n",
      "89\n"
     ]
    }
   ],
   "source": [
    "#2.program to calculate disarium numbers in the range of 1 to 100\n",
    "\n",
    "#function to get length\n",
    "def get_length(n):\n",
    "    length=0\n",
    "    while(n!=0):\n",
    "        length=length+1\n",
    "        n=n//10\n",
    "    return length\n",
    "\n",
    "#function to caluculate sum to the power of their positions\n",
    "def digitsum(num):\n",
    "    rem=0\n",
    "    sum=0\n",
    "    l=get_length(num)\n",
    "    while(num>0):\n",
    "        rem=num%10\n",
    "        sum=sum+(rem**l)\n",
    "        num=num//10\n",
    "        l=l-1\n",
    "    return sum\n",
    "\n",
    "result=0\n",
    "print(\"Disarium numbers in range of 1 to 100\")\n",
    "for i in range(1,101):\n",
    "    result=digitsum(i)\n",
    "    \n",
    "    if(result==i):\n",
    "        print(i)"
   ]
  },
  {
   "cell_type": "code",
   "execution_count": 12,
   "id": "8ae4bce2",
   "metadata": {},
   "outputs": [
    {
     "name": "stdout",
     "output_type": "stream",
     "text": [
      "Yes\n"
     ]
    }
   ],
   "source": [
    "#3.python program to check if a given number is happy number or not\n",
    "\n",
    "#function to return sum of squares of a digit\n",
    "\n",
    "def digit_sum(n):\n",
    "    sq=0\n",
    "    while n!=0:\n",
    "        digit=n%10\n",
    "        sq+=digit**2\n",
    "        n=n//10\n",
    "    return sq\n",
    "\n",
    "def is_happy(n):\n",
    "    s=set()\n",
    "    s.add(n)\n",
    "    while(True):\n",
    "        if(n==1):\n",
    "            return True\n",
    "        \n",
    "        n=digit_sum(n)\n",
    "        \n",
    "        if n in s:\n",
    "            return False\n",
    "        s.add(n)\n",
    "\n",
    "    return False\n",
    "\n",
    "n = 23\n",
    "if (is_happy(n)):\n",
    "    print(\"Yes\")\n",
    "else:\n",
    "    print(\"No\")\n",
    "        \n",
    "            "
   ]
  },
  {
   "cell_type": "code",
   "execution_count": 13,
   "id": "6a83e669",
   "metadata": {},
   "outputs": [
    {
     "name": "stdout",
     "output_type": "stream",
     "text": [
      "happy numbers in 1 to 100 range are\n",
      "1\n",
      "7\n",
      "10\n",
      "13\n",
      "19\n",
      "23\n",
      "28\n",
      "31\n",
      "32\n",
      "44\n",
      "49\n",
      "68\n",
      "70\n",
      "79\n",
      "82\n",
      "86\n",
      "91\n",
      "94\n",
      "97\n",
      "100\n"
     ]
    }
   ],
   "source": [
    "#4.python program to check if a given number is happy number in range of 1 to 100\n",
    "def digit_sum(n):\n",
    "    sq=0\n",
    "    while n!=0:\n",
    "        digit=n%10\n",
    "        sq+=digit**2\n",
    "        n=n//10\n",
    "    return sq\n",
    "print(\"happy numbers in 1 to 100 range are\")\n",
    "for i in range(1,101):\n",
    "    n=i\n",
    "    while(n!=1 and n!=4):\n",
    "        n=digit_sum(n)\n",
    "    if(n==1):\n",
    "        print(i)"
   ]
  },
  {
   "cell_type": "code",
   "execution_count": 28,
   "id": "120207de",
   "metadata": {},
   "outputs": [
    {
     "name": "stdout",
     "output_type": "stream",
     "text": [
      "Enter a number99\n",
      "not harshad\n"
     ]
    }
   ],
   "source": [
    "#5.program to print of a given number is harshad number or not\n",
    "#if sum of digits of a number is divisible by the number than it is harshadh number\n",
    "num=int(input(\"Enter a number\"))\n",
    "sum=0\n",
    "rem=0\n",
    "n=num\n",
    "while(num!=0):\n",
    "    rem=num%10\n",
    "    sum=sum+rem\n",
    "    num=num//10\n",
    "if(n%sum==0):\n",
    "    print(\"yes it is harshadh number\")\n",
    "else:\n",
    "    print(\"not harshad\")\n",
    "\n",
    "        "
   ]
  },
  {
   "cell_type": "code",
   "execution_count": 44,
   "id": "bd826a61",
   "metadata": {},
   "outputs": [
    {
     "name": "stdout",
     "output_type": "stream",
     "text": [
      "pronic number between 1 to 100 are\n",
      "2\n",
      "6\n",
      "12\n",
      "20\n",
      "30\n",
      "42\n",
      "56\n",
      "72\n",
      "90\n"
     ]
    }
   ],
   "source": [
    "#6.python program to print pronic numbers in range of 1 to 100\n",
    "\n",
    "def pronic(num):\n",
    "    flag=False\n",
    "    for j in range(1,num+1):\n",
    "        if((j*(j+1))==num):\n",
    "            flag=True\n",
    "            break\n",
    "    return flag\n",
    "        \n",
    "print(\"pronic number between 1 to 100 are\")\n",
    "for i in range(1,101):\n",
    "         if(pronic(i)):\n",
    "               print(i)\n",
    "           \n",
    "           \n"
   ]
  }
 ],
 "metadata": {
  "kernelspec": {
   "display_name": "Python 3",
   "language": "python",
   "name": "python3"
  },
  "language_info": {
   "codemirror_mode": {
    "name": "ipython",
    "version": 3
   },
   "file_extension": ".py",
   "mimetype": "text/x-python",
   "name": "python",
   "nbconvert_exporter": "python",
   "pygments_lexer": "ipython3",
   "version": "3.8.8"
  }
 },
 "nbformat": 4,
 "nbformat_minor": 5
}
